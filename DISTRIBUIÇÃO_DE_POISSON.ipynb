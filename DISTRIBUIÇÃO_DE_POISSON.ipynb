{
  "nbformat": 4,
  "nbformat_minor": 0,
  "metadata": {
    "colab": {
      "name": "DISTRIBUIÇÃO DE POISSON",
      "version": "0.3.2",
      "provenance": [],
      "include_colab_link": true
    },
    "kernelspec": {
      "name": "python3",
      "display_name": "Python 3"
    }
  },
  "cells": [
    {
      "cell_type": "markdown",
      "metadata": {
        "id": "view-in-github",
        "colab_type": "text"
      },
      "source": [
        "<a href=\"https://colab.research.google.com/github/mkarrer237/Modelo-Estatistico/blob/master/DISTRIBUI%C3%87%C3%83O_DE_POISSON.ipynb\" target=\"_parent\"><img src=\"https://colab.research.google.com/assets/colab-badge.svg\" alt=\"Open In Colab\"/></a>"
      ]
    },
    {
      "cell_type": "markdown",
      "metadata": {
        "id": "AsrzbJZYeooO",
        "colab_type": "text"
      },
      "source": [
        "**DISTRIBUIÇÃO DE POISSON**"
      ]
    },
    {
      "cell_type": "markdown",
      "metadata": {
        "id": "Np2NXmGRerzt",
        "colab_type": "text"
      },
      "source": [
        "**I) Cálculo de probabilidades**\n",
        "\n",
        "A função  com os parametros k e  lambda é: poisson.pmf(k, mu), sendo:\n",
        "\n",
        "\n",
        "-k: numero de sucessos desejado\n",
        "\n",
        "-mu: o valor de lambda, ou seja, a média de Poisson\n",
        "\n",
        "\n",
        "Exemplo 1: O número de partículas gama emitidas por segundo por certa substância radioativa é uma variável aleatória com distribuição de Poisson.  Sabe-se que essa substância emite 5 partículas gama a cada 15 segundos. Determine a probabilidade de essa substância emitir duas partículas gama em um dado segundo.\n",
        "\n",
        "Neste caso, temos k=2 e mu(lambda)=3\n",
        " \n"
      ]
    },
    {
      "cell_type": "code",
      "metadata": {
        "id": "8T343flGf7LS",
        "colab_type": "code",
        "outputId": "706b2434-28e9-4673-85b5-1470aaada099",
        "colab": {
          "base_uri": "https://localhost:8080/",
          "height": 34
        }
      },
      "source": [
        "from scipy.stats import poisson\n",
        "poisson.pmf(2,3)"
      ],
      "execution_count": 9,
      "outputs": [
        {
          "output_type": "execute_result",
          "data": {
            "text/plain": [
              "0.22404180765538775"
            ]
          },
          "metadata": {
            "tags": []
          },
          "execution_count": 9
        }
      ]
    },
    {
      "cell_type": "markdown",
      "metadata": {
        "id": "e_8f14e9l5S4",
        "colab_type": "text"
      },
      "source": [
        "Exemplo 2)  Uma impressora a laser imprime em média 360 páginas por hora. Utilizando o modelo de Poisson, determine a probabilidade de que ela imprima no máximo 3 páginas em um minuto. \n",
        "\n",
        "Neste caso, queremos calcular P(X<=3)=P(X=0)+P(X=1)+P(X=2)+P(X=3), sendo X o número de páginas impressas e lambda igual a 6.\n",
        "\n",
        "Podemos calcular de duas formas, conforme apresentado a seguir.\n",
        "\n",
        "Primeiro modo:"
      ]
    },
    {
      "cell_type": "code",
      "metadata": {
        "id": "9TPD0oeYwbo4",
        "colab_type": "code",
        "outputId": "1035ab28-26b8-4123-d2ba-3f79ca973f92",
        "colab": {
          "base_uri": "https://localhost:8080/",
          "height": 34
        }
      },
      "source": [
        "poisson.pmf(0,6)+poisson.pmf(1,6)+poisson.pmf(2,6)+poisson.pmf(3,6)"
      ],
      "execution_count": 8,
      "outputs": [
        {
          "output_type": "execute_result",
          "data": {
            "text/plain": [
              "0.15120388277664787"
            ]
          },
          "metadata": {
            "tags": []
          },
          "execution_count": 8
        }
      ]
    },
    {
      "cell_type": "markdown",
      "metadata": {
        "id": "GTJ2SLE1vIJt",
        "colab_type": "text"
      },
      "source": [
        "Segundo modo: \n",
        "Utilizando a função de probabilidade acumulada poisson.cdf(k, mu)"
      ]
    },
    {
      "cell_type": "code",
      "metadata": {
        "id": "oZSByh14nnL4",
        "colab_type": "code",
        "outputId": "0cc144ec-d250-4304-c0c2-9a7a35241df4",
        "colab": {
          "base_uri": "https://localhost:8080/",
          "height": 34
        }
      },
      "source": [
        "from scipy.stats import poisson\n",
        "poisson.cdf\n",
        "\n",
        "poisson.cdf(3,6) "
      ],
      "execution_count": 7,
      "outputs": [
        {
          "output_type": "execute_result",
          "data": {
            "text/plain": [
              "0.15120388277664784"
            ]
          },
          "metadata": {
            "tags": []
          },
          "execution_count": 7
        }
      ]
    },
    {
      "cell_type": "markdown",
      "metadata": {
        "id": "VlLQVpjzojQ0",
        "colab_type": "text"
      },
      "source": [
        "Exemplo 3) Uma impressora a laser imprime em média 360 páginas por hora. Utilizando o modelo de Poisson, determine a probabilidade de que ela imprima pelo menos duas páginas em um minuto. \n",
        "\n",
        "Neste caso, queremos calcular :\n",
        "\n",
        "P(X>=2)=1-P(X<2)\n",
        "P(X>=2)=1-P(X=0)-P(X=1), sendo X o número de páginas impressas e lambda = 6\n",
        "\n",
        "Primeiro modo:"
      ]
    },
    {
      "cell_type": "code",
      "metadata": {
        "id": "p30PtV7Uwz5A",
        "colab_type": "code",
        "outputId": "afae1409-df83-42a3-a9d4-f791e19b52a0",
        "colab": {
          "base_uri": "https://localhost:8080/",
          "height": 34
        }
      },
      "source": [
        "from scipy.stats import poisson\n",
        "1-poisson.pmf(0,6)-poisson.pmf(1,6)"
      ],
      "execution_count": 6,
      "outputs": [
        {
          "output_type": "execute_result",
          "data": {
            "text/plain": [
              "0.9826487347633355"
            ]
          },
          "metadata": {
            "tags": []
          },
          "execution_count": 6
        }
      ]
    },
    {
      "cell_type": "markdown",
      "metadata": {
        "id": "G1wF5QC3w84D",
        "colab_type": "text"
      },
      "source": [
        "Segundo modo:"
      ]
    },
    {
      "cell_type": "code",
      "metadata": {
        "id": "4Yy2010ao6dR",
        "colab_type": "code",
        "outputId": "248e28f8-521a-4578-c36b-5e3efed3125b",
        "colab": {
          "base_uri": "https://localhost:8080/",
          "height": 34
        }
      },
      "source": [
        "from scipy.stats import poisson\n",
        "poisson.cdf\n",
        "1-poisson.cdf(1,6)"
      ],
      "execution_count": 5,
      "outputs": [
        {
          "output_type": "execute_result",
          "data": {
            "text/plain": [
              "0.9826487347633355"
            ]
          },
          "metadata": {
            "tags": []
          },
          "execution_count": 5
        }
      ]
    },
    {
      "cell_type": "markdown",
      "metadata": {
        "id": "8GYXNZoepKCZ",
        "colab_type": "text"
      },
      "source": [
        "Exemplo 4) Uma impressora a laser imprime em média 360 páginas por hora. Utilizando o modelo de Poisson, determine a probabilidade de que ela imprima mais do que duas páginas em um minuto. \n",
        "\n",
        "Primeiro modo:\n",
        "\n",
        "P(X>2)=1-P(X<=2)\n",
        "P(X>2)=1-P(X=0)-P(x=1)-P(X=2), sendo X o número de páginas impressas"
      ]
    },
    {
      "cell_type": "code",
      "metadata": {
        "id": "CPcTVTYUxSG8",
        "colab_type": "code",
        "outputId": "a9246b06-ffa9-4760-c6e2-47e9092ff7b8",
        "colab": {
          "base_uri": "https://localhost:8080/",
          "height": 34
        }
      },
      "source": [
        "from scipy.stats import poisson\n",
        "1-poisson.pmf(0,6)-poisson.pmf(1,6)-poisson.pmf(2,6)"
      ],
      "execution_count": 4,
      "outputs": [
        {
          "output_type": "execute_result",
          "data": {
            "text/plain": [
              "0.938031195583341"
            ]
          },
          "metadata": {
            "tags": []
          },
          "execution_count": 4
        }
      ]
    },
    {
      "cell_type": "markdown",
      "metadata": {
        "id": "2eJcEh_7xZHB",
        "colab_type": "text"
      },
      "source": [
        "Segundo modo: usando a função cumulativa de Poisson:"
      ]
    },
    {
      "cell_type": "code",
      "metadata": {
        "id": "_R4l9KSGpRnw",
        "colab_type": "code",
        "outputId": "d8c3386c-23fa-40b2-cdc4-e4842a7233b9",
        "colab": {
          "base_uri": "https://localhost:8080/",
          "height": 34
        }
      },
      "source": [
        "from scipy.stats import poisson\n",
        "poisson.cdf\n",
        "1-poisson.cdf(2,6)\n",
        "            "
      ],
      "execution_count": 3,
      "outputs": [
        {
          "output_type": "execute_result",
          "data": {
            "text/plain": [
              "0.938031195583341"
            ]
          },
          "metadata": {
            "tags": []
          },
          "execution_count": 3
        }
      ]
    }
  ]
}